{
 "cells": [
  {
   "cell_type": "markdown",
   "metadata": {},
   "source": [
    "# Handwritting Recognition:\n",
    "# Elizaveta Sokolova \n",
    "\n"
   ]
  },
  
  {
   "cell_type": "markdown",
   "metadata": {},
   "source": [
    "# ___________________________________________\n",
    "#  Handwriting Recognition Using ANN"
   ]
  },
  {
   "cell_type": "code",
   "execution_count": 1,
   "metadata": {
    "collapsed": true
   },
   "outputs": [],
   "source": [
    "import numpy as np\n",
    "import pandas as pd \n",
    "\n",
    "import matplotlib.image as mpimg\n",
    "import matplotlib.pyplot as plt\n",
    "\n",
    "\n",
    "from sklearn.neural_network import MLPClassifier\n",
    "\n",
    "from sklearn.model_selection import train_test_split\n",
    "from sklearn.model_selection import cross_val_score\n",
    "from sklearn.metrics import accuracy_score\n",
    "from sklearn import metrics\n",
    "\n",
    "\n",
    "%matplotlib inline"
   ]
  },
  {
   "cell_type": "markdown",
   "metadata": {},
   "source": [
    "# a)"
   ]
  },
  {
   "cell_type": "code",
   "execution_count": 8,
   "metadata": {},
   "outputs": [],
   "source": [
    "my_digits = []\n",
    "for i in range(0,1797):\n",
    "    file_name = \"/Users/elizavetasokolova/Desktop/HW2/Digit/\" + str(i) + \".jpg\"\n",
    "    my_digits.append(mpimg.imread(file_name))"
   ]
  },
  {
   "cell_type": "code",
   "execution_count": 9,
   "metadata": {},
   "outputs": [
    {
     "data": {
      "text/plain": [
       "<matplotlib.image.AxesImage at 0x112924be0>"
      ]
     },
     "execution_count": 9,
     "metadata": {},
     "output_type": "execute_result"
    },
    {
     "data": {
      "image/png": "[encoded data removed]",
      "text/plain": [
       "<matplotlib.figure.Figure at 0x1129a35c0>"
      ]
     },
     "metadata": {},
     "output_type": "display_data"
    }
   ],
   "source": [
    "#show the second image\n",
    "plt.imshow(my_digits[1], cmap=plt.cm.gray_r, interpolation='nearest')"
   ]
  },
  {
   "cell_type": "markdown",
   "metadata": {},
   "source": [
    "# b)"
   ]
  },
  {
   "cell_type": "code",
   "execution_count": 10,
   "metadata": {},
   "outputs": [
    {
     "data": {
      "text/plain": [
       "1797"
      ]
     },
     "execution_count": 10,
     "metadata": {},
     "output_type": "execute_result"
    }
   ],
   "source": [
    "len(my_digits)"
   ]
  },
  {
   "cell_type": "code",
   "execution_count": 11,
   "metadata": {
    "collapsed": true
   },
   "outputs": [],
   "source": [
    "import itertools\n",
    "digits = []\n",
    "for i in range(0, 1796):\n",
    "    x = list(itertools.chain.from_iterable(my_digits[i]))\n",
    "    digits.append(x)"
   ]
  },
  {
   "cell_type": "code",
   "execution_count": 12,
   "metadata": {
    "collapsed": true
   },
   "outputs": [],
   "source": [
    "df_digits = pd.DataFrame(digits)"
   ]
  },
  {
   "cell_type": "code",
   "execution_count": 13,
   "metadata": {},
   "outputs": [
    {
     "data": {
      "text/html": [
       "<div>\n",
       "<style>\n",
       "    .dataframe thead tr:only-child th {\n",
       "        text-align: right;\n",
       "    }\n",
       "\n",
       "    .dataframe thead th {\n",
       "        text-align: left;\n",
       "    }\n",
       "\n",
       "    .dataframe tbody tr th {\n",
       "        vertical-align: top;\n",
       "    }\n",
       "</style>\n",
       "<table border=\"1\" class=\"dataframe\">\n",
       "  <thead>\n",
       "    <tr style=\"text-align: right;\">\n",
       "      <th></th>\n",
       "      <th>0</th>\n",
       "      <th>1</th>\n",
       "      <th>2</th>\n",
       "      <th>3</th>\n",
       "      <th>4</th>\n",
       "      <th>5</th>\n",
       "      <th>6</th>\n",
       "      <th>7</th>\n",
       "      <th>8</th>\n",
       "      <th>9</th>\n",
       "      <th>...</th>\n",
       "      <th>54</th>\n",
       "      <th>55</th>\n",
       "      <th>56</th>\n",
       "      <th>57</th>\n",
       "      <th>58</th>\n",
       "      <th>59</th>\n",
       "      <th>60</th>\n",
       "      <th>61</th>\n",
       "      <th>62</th>\n",
       "      <th>63</th>\n",
       "    </tr>\n",
       "  </thead>\n",
       "  <tbody>\n",
       "    <tr>\n",
       "      <th>0</th>\n",
       "      <td>0</td>\n",
       "      <td>2</td>\n",
       "      <td>88</td>\n",
       "      <td>217</td>\n",
       "      <td>158</td>\n",
       "      <td>21</td>\n",
       "      <td>0</td>\n",
       "      <td>0</td>\n",
       "      <td>16</td>\n",
       "      <td>0</td>\n",
       "      <td>...</td>\n",
       "      <td>4</td>\n",
       "      <td>0</td>\n",
       "      <td>4</td>\n",
       "      <td>3</td>\n",
       "      <td>87</td>\n",
       "      <td>228</td>\n",
       "      <td>182</td>\n",
       "      <td>0</td>\n",
       "      <td>9</td>\n",
       "      <td>2</td>\n",
       "    </tr>\n",
       "    <tr>\n",
       "      <th>1</th>\n",
       "      <td>0</td>\n",
       "      <td>0</td>\n",
       "      <td>11</td>\n",
       "      <td>187</td>\n",
       "      <td>210</td>\n",
       "      <td>78</td>\n",
       "      <td>5</td>\n",
       "      <td>0</td>\n",
       "      <td>13</td>\n",
       "      <td>5</td>\n",
       "      <td>...</td>\n",
       "      <td>0</td>\n",
       "      <td>0</td>\n",
       "      <td>0</td>\n",
       "      <td>0</td>\n",
       "      <td>0</td>\n",
       "      <td>172</td>\n",
       "      <td>251</td>\n",
       "      <td>157</td>\n",
       "      <td>0</td>\n",
       "      <td>12</td>\n",
       "    </tr>\n",
       "    <tr>\n",
       "      <th>2</th>\n",
       "      <td>0</td>\n",
       "      <td>0</td>\n",
       "      <td>5</td>\n",
       "      <td>59</td>\n",
       "      <td>240</td>\n",
       "      <td>199</td>\n",
       "      <td>2</td>\n",
       "      <td>0</td>\n",
       "      <td>5</td>\n",
       "      <td>0</td>\n",
       "      <td>...</td>\n",
       "      <td>92</td>\n",
       "      <td>0</td>\n",
       "      <td>0</td>\n",
       "      <td>11</td>\n",
       "      <td>0</td>\n",
       "      <td>54</td>\n",
       "      <td>173</td>\n",
       "      <td>255</td>\n",
       "      <td>138</td>\n",
       "      <td>0</td>\n",
       "    </tr>\n",
       "    <tr>\n",
       "      <th>3</th>\n",
       "      <td>6</td>\n",
       "      <td>0</td>\n",
       "      <td>108</td>\n",
       "      <td>255</td>\n",
       "      <td>213</td>\n",
       "      <td>13</td>\n",
       "      <td>10</td>\n",
       "      <td>0</td>\n",
       "      <td>2</td>\n",
       "      <td>131</td>\n",
       "      <td>...</td>\n",
       "      <td>168</td>\n",
       "      <td>1</td>\n",
       "      <td>0</td>\n",
       "      <td>0</td>\n",
       "      <td>118</td>\n",
       "      <td>217</td>\n",
       "      <td>226</td>\n",
       "      <td>159</td>\n",
       "      <td>0</td>\n",
       "      <td>3</td>\n",
       "    </tr>\n",
       "    <tr>\n",
       "      <th>4</th>\n",
       "      <td>0</td>\n",
       "      <td>6</td>\n",
       "      <td>0</td>\n",
       "      <td>34</td>\n",
       "      <td>160</td>\n",
       "      <td>7</td>\n",
       "      <td>7</td>\n",
       "      <td>0</td>\n",
       "      <td>5</td>\n",
       "      <td>0</td>\n",
       "      <td>...</td>\n",
       "      <td>7</td>\n",
       "      <td>0</td>\n",
       "      <td>0</td>\n",
       "      <td>0</td>\n",
       "      <td>2</td>\n",
       "      <td>42</td>\n",
       "      <td>250</td>\n",
       "      <td>51</td>\n",
       "      <td>0</td>\n",
       "      <td>4</td>\n",
       "    </tr>\n",
       "  </tbody>\n",
       "</table>\n",
       "<p>5 rows × 64 columns</p>\n",
       "</div>"
      ],
      "text/plain": [
       "   0   1    2    3    4    5   6   7   8    9  ...   54  55  56  57   58   59  \\\n",
       "0   0   2   88  217  158   21   0   0  16    0 ...    4   0   4   3   87  228   \n",
       "1   0   0   11  187  210   78   5   0  13    5 ...    0   0   0   0    0  172   \n",
       "2   0   0    5   59  240  199   2   0   5    0 ...   92   0   0  11    0   54   \n",
       "3   6   0  108  255  213   13  10   0   2  131 ...  168   1   0   0  118  217   \n",
       "4   0   6    0   34  160    7   7   0   5    0 ...    7   0   0   0    2   42   \n",
       "\n",
       "    60   61   62  63  \n",
       "0  182    0    9   2  \n",
       "1  251  157    0  12  \n",
       "2  173  255  138   0  \n",
       "3  226  159    0   3  \n",
       "4  250   51    0   4  \n",
       "\n",
       "[5 rows x 64 columns]"
      ]
     },
     "execution_count": 13,
     "metadata": {},
     "output_type": "execute_result"
    }
   ],
   "source": [
    "df_digits.head()"
   ]
  },
  {
   "cell_type": "code",
   "execution_count": 17,
   "metadata": {},
   "outputs": [
    {
     "data": {
      "text/plain": [
       "(1797, 2)"
      ]
     },
     "execution_count": 17,
     "metadata": {},
     "output_type": "execute_result"
    }
   ],
   "source": [
    "df_label = pd.read_csv(\"/Users/elizavetasokolova/Desktop/HW2//label.csv\")\n",
    "df_label.shape"
   ]
  },
  {
   "cell_type": "code",
   "execution_count": 18,
   "metadata": {},
   "outputs": [
    {
     "data": {
      "text/plain": [
       "0       0\n",
       "1       1\n",
       "2       2\n",
       "3       3\n",
       "4       4\n",
       "5       5\n",
       "6       6\n",
       "7       7\n",
       "8       8\n",
       "9       9\n",
       "10      0\n",
       "11      1\n",
       "12      2\n",
       "13      3\n",
       "14      4\n",
       "15      5\n",
       "16      6\n",
       "17      7\n",
       "18      8\n",
       "19      9\n",
       "20      0\n",
       "21      1\n",
       "22      2\n",
       "23      3\n",
       "24      4\n",
       "25      5\n",
       "26      6\n",
       "27      7\n",
       "28      8\n",
       "29      9\n",
       "       ..\n",
       "1767    4\n",
       "1768    0\n",
       "1769    5\n",
       "1770    3\n",
       "1771    6\n",
       "1772    9\n",
       "1773    6\n",
       "1774    1\n",
       "1775    7\n",
       "1776    5\n",
       "1777    4\n",
       "1778    4\n",
       "1779    7\n",
       "1780    2\n",
       "1781    8\n",
       "1782    2\n",
       "1783    2\n",
       "1784    5\n",
       "1785    7\n",
       "1786    9\n",
       "1787    5\n",
       "1788    4\n",
       "1789    8\n",
       "1790    8\n",
       "1791    4\n",
       "1792    9\n",
       "1793    0\n",
       "1794    8\n",
       "1795    9\n",
       "1796    8\n",
       "Name: digit, Length: 1797, dtype: int64"
      ]
     },
     "execution_count": 18,
     "metadata": {},
     "output_type": "execute_result"
    }
   ],
   "source": [
    "labels = df_label['digit']\n",
    "labels"
   ]
  },
  {
   "cell_type": "code",
   "execution_count": 19,
   "metadata": {
    "collapsed": true
   },
   "outputs": [],
   "source": [
    "df_digits[64] = labels"
   ]
  },
  {
   "cell_type": "code",
   "execution_count": 20,
   "metadata": {},
   "outputs": [
    {
     "data": {
      "text/html": [
       "<div>\n",
       "<style>\n",
       "    .dataframe thead tr:only-child th {\n",
       "        text-align: right;\n",
       "    }\n",
       "\n",
       "    .dataframe thead th {\n",
       "        text-align: left;\n",
       "    }\n",
       "\n",
       "    .dataframe tbody tr th {\n",
       "        vertical-align: top;\n",
       "    }\n",
       "</style>\n",
       "<table border=\"1\" class=\"dataframe\">\n",
       "  <thead>\n",
       "    <tr style=\"text-align: right;\">\n",
       "      <th></th>\n",
       "      <th>0</th>\n",
       "      <th>1</th>\n",
       "      <th>2</th>\n",
       "      <th>3</th>\n",
       "      <th>4</th>\n",
       "      <th>5</th>\n",
       "      <th>6</th>\n",
       "      <th>7</th>\n",
       "      <th>8</th>\n",
       "      <th>9</th>\n",
       "      <th>...</th>\n",
       "      <th>55</th>\n",
       "      <th>56</th>\n",
       "      <th>57</th>\n",
       "      <th>58</th>\n",
       "      <th>59</th>\n",
       "      <th>60</th>\n",
       "      <th>61</th>\n",
       "      <th>62</th>\n",
       "      <th>63</th>\n",
       "      <th>64</th>\n",
       "    </tr>\n",
       "  </thead>\n",
       "  <tbody>\n",
       "    <tr>\n",
       "      <th>0</th>\n",
       "      <td>0</td>\n",
       "      <td>2</td>\n",
       "      <td>88</td>\n",
       "      <td>217</td>\n",
       "      <td>158</td>\n",
       "      <td>21</td>\n",
       "      <td>0</td>\n",
       "      <td>0</td>\n",
       "      <td>16</td>\n",
       "      <td>0</td>\n",
       "      <td>...</td>\n",
       "      <td>0</td>\n",
       "      <td>4</td>\n",
       "      <td>3</td>\n",
       "      <td>87</td>\n",
       "      <td>228</td>\n",
       "      <td>182</td>\n",
       "      <td>0</td>\n",
       "      <td>9</td>\n",
       "      <td>2</td>\n",
       "      <td>0</td>\n",
       "    </tr>\n",
       "    <tr>\n",
       "      <th>1</th>\n",
       "      <td>0</td>\n",
       "      <td>0</td>\n",
       "      <td>11</td>\n",
       "      <td>187</td>\n",
       "      <td>210</td>\n",
       "      <td>78</td>\n",
       "      <td>5</td>\n",
       "      <td>0</td>\n",
       "      <td>13</td>\n",
       "      <td>5</td>\n",
       "      <td>...</td>\n",
       "      <td>0</td>\n",
       "      <td>0</td>\n",
       "      <td>0</td>\n",
       "      <td>0</td>\n",
       "      <td>172</td>\n",
       "      <td>251</td>\n",
       "      <td>157</td>\n",
       "      <td>0</td>\n",
       "      <td>12</td>\n",
       "      <td>1</td>\n",
       "    </tr>\n",
       "    <tr>\n",
       "      <th>2</th>\n",
       "      <td>0</td>\n",
       "      <td>0</td>\n",
       "      <td>5</td>\n",
       "      <td>59</td>\n",
       "      <td>240</td>\n",
       "      <td>199</td>\n",
       "      <td>2</td>\n",
       "      <td>0</td>\n",
       "      <td>5</td>\n",
       "      <td>0</td>\n",
       "      <td>...</td>\n",
       "      <td>0</td>\n",
       "      <td>0</td>\n",
       "      <td>11</td>\n",
       "      <td>0</td>\n",
       "      <td>54</td>\n",
       "      <td>173</td>\n",
       "      <td>255</td>\n",
       "      <td>138</td>\n",
       "      <td>0</td>\n",
       "      <td>2</td>\n",
       "    </tr>\n",
       "    <tr>\n",
       "      <th>3</th>\n",
       "      <td>6</td>\n",
       "      <td>0</td>\n",
       "      <td>108</td>\n",
       "      <td>255</td>\n",
       "      <td>213</td>\n",
       "      <td>13</td>\n",
       "      <td>10</td>\n",
       "      <td>0</td>\n",
       "      <td>2</td>\n",
       "      <td>131</td>\n",
       "      <td>...</td>\n",
       "      <td>1</td>\n",
       "      <td>0</td>\n",
       "      <td>0</td>\n",
       "      <td>118</td>\n",
       "      <td>217</td>\n",
       "      <td>226</td>\n",
       "      <td>159</td>\n",
       "      <td>0</td>\n",
       "      <td>3</td>\n",
       "      <td>3</td>\n",
       "    </tr>\n",
       "    <tr>\n",
       "      <th>4</th>\n",
       "      <td>0</td>\n",
       "      <td>6</td>\n",
       "      <td>0</td>\n",
       "      <td>34</td>\n",
       "      <td>160</td>\n",
       "      <td>7</td>\n",
       "      <td>7</td>\n",
       "      <td>0</td>\n",
       "      <td>5</td>\n",
       "      <td>0</td>\n",
       "      <td>...</td>\n",
       "      <td>0</td>\n",
       "      <td>0</td>\n",
       "      <td>0</td>\n",
       "      <td>2</td>\n",
       "      <td>42</td>\n",
       "      <td>250</td>\n",
       "      <td>51</td>\n",
       "      <td>0</td>\n",
       "      <td>4</td>\n",
       "      <td>4</td>\n",
       "    </tr>\n",
       "  </tbody>\n",
       "</table>\n",
       "<p>5 rows × 65 columns</p>\n",
       "</div>"
      ],
      "text/plain": [
       "   0   1    2    3    4    5   6   7   8    9  ...  55  56  57   58   59   60  \\\n",
       "0   0   2   88  217  158   21   0   0  16    0 ...   0   4   3   87  228  182   \n",
       "1   0   0   11  187  210   78   5   0  13    5 ...   0   0   0    0  172  251   \n",
       "2   0   0    5   59  240  199   2   0   5    0 ...   0   0  11    0   54  173   \n",
       "3   6   0  108  255  213   13  10   0   2  131 ...   1   0   0  118  217  226   \n",
       "4   0   6    0   34  160    7   7   0   5    0 ...   0   0   0    2   42  250   \n",
       "\n",
       "    61   62  63  64  \n",
       "0    0    9   2   0  \n",
       "1  157    0  12   1  \n",
       "2  255  138   0   2  \n",
       "3  159    0   3   3  \n",
       "4   51    0   4   4  \n",
       "\n",
       "[5 rows x 65 columns]"
      ]
     },
     "execution_count": 20,
     "metadata": {},
     "output_type": "execute_result"
    }
   ],
   "source": [
    "df_digits.head()\n",
    "\n"
   ]
  },
  {
   "cell_type": "code",
   "execution_count": 21,
   "metadata": {
    "collapsed": true
   },
   "outputs": [],
   "source": [
    "df_digits.columns = df_digits.columns.astype(str)"
   ]
  },
  {
   "cell_type": "code",
   "execution_count": 22,
   "metadata": {
    "collapsed": true
   },
   "outputs": [],
   "source": [
    "feature_cols = list(range(64))"
   ]
  },
  {
   "cell_type": "code",
   "execution_count": 23,
   "metadata": {
    "collapsed": true
   },
   "outputs": [],
   "source": [
    "feature_cols = list(map(lambda x : str(x), feature_cols))"
   ]
  },
  {
   "cell_type": "code",
   "execution_count": 25,
   "metadata": {},
   "outputs": [
    {
     "data": {
      "text/html": [
       "<div>\n",
       "<style>\n",
       "    .dataframe thead tr:only-child th {\n",
       "        text-align: right;\n",
       "    }\n",
       "\n",
       "    .dataframe thead th {\n",
       "        text-align: left;\n",
       "    }\n",
       "\n",
       "    .dataframe tbody tr th {\n",
       "        vertical-align: top;\n",
       "    }\n",
       "</style>\n",
       "<table border=\"1\" class=\"dataframe\">\n",
       "  <thead>\n",
       "    <tr style=\"text-align: right;\">\n",
       "      <th></th>\n",
       "      <th>0</th>\n",
       "      <th>1</th>\n",
       "      <th>2</th>\n",
       "      <th>3</th>\n",
       "      <th>4</th>\n",
       "      <th>5</th>\n",
       "      <th>6</th>\n",
       "      <th>7</th>\n",
       "      <th>8</th>\n",
       "      <th>9</th>\n",
       "      <th>...</th>\n",
       "      <th>54</th>\n",
       "      <th>55</th>\n",
       "      <th>56</th>\n",
       "      <th>57</th>\n",
       "      <th>58</th>\n",
       "      <th>59</th>\n",
       "      <th>60</th>\n",
       "      <th>61</th>\n",
       "      <th>62</th>\n",
       "      <th>63</th>\n",
       "    </tr>\n",
       "  </thead>\n",
       "  <tbody>\n",
       "    <tr>\n",
       "      <th>0</th>\n",
       "      <td>0</td>\n",
       "      <td>2</td>\n",
       "      <td>88</td>\n",
       "      <td>217</td>\n",
       "      <td>158</td>\n",
       "      <td>21</td>\n",
       "      <td>0</td>\n",
       "      <td>0</td>\n",
       "      <td>16</td>\n",
       "      <td>0</td>\n",
       "      <td>...</td>\n",
       "      <td>4</td>\n",
       "      <td>0</td>\n",
       "      <td>4</td>\n",
       "      <td>3</td>\n",
       "      <td>87</td>\n",
       "      <td>228</td>\n",
       "      <td>182</td>\n",
       "      <td>0</td>\n",
       "      <td>9</td>\n",
       "      <td>2</td>\n",
       "    </tr>\n",
       "    <tr>\n",
       "      <th>1</th>\n",
       "      <td>0</td>\n",
       "      <td>0</td>\n",
       "      <td>11</td>\n",
       "      <td>187</td>\n",
       "      <td>210</td>\n",
       "      <td>78</td>\n",
       "      <td>5</td>\n",
       "      <td>0</td>\n",
       "      <td>13</td>\n",
       "      <td>5</td>\n",
       "      <td>...</td>\n",
       "      <td>0</td>\n",
       "      <td>0</td>\n",
       "      <td>0</td>\n",
       "      <td>0</td>\n",
       "      <td>0</td>\n",
       "      <td>172</td>\n",
       "      <td>251</td>\n",
       "      <td>157</td>\n",
       "      <td>0</td>\n",
       "      <td>12</td>\n",
       "    </tr>\n",
       "    <tr>\n",
       "      <th>2</th>\n",
       "      <td>0</td>\n",
       "      <td>0</td>\n",
       "      <td>5</td>\n",
       "      <td>59</td>\n",
       "      <td>240</td>\n",
       "      <td>199</td>\n",
       "      <td>2</td>\n",
       "      <td>0</td>\n",
       "      <td>5</td>\n",
       "      <td>0</td>\n",
       "      <td>...</td>\n",
       "      <td>92</td>\n",
       "      <td>0</td>\n",
       "      <td>0</td>\n",
       "      <td>11</td>\n",
       "      <td>0</td>\n",
       "      <td>54</td>\n",
       "      <td>173</td>\n",
       "      <td>255</td>\n",
       "      <td>138</td>\n",
       "      <td>0</td>\n",
       "    </tr>\n",
       "    <tr>\n",
       "      <th>3</th>\n",
       "      <td>6</td>\n",
       "      <td>0</td>\n",
       "      <td>108</td>\n",
       "      <td>255</td>\n",
       "      <td>213</td>\n",
       "      <td>13</td>\n",
       "      <td>10</td>\n",
       "      <td>0</td>\n",
       "      <td>2</td>\n",
       "      <td>131</td>\n",
       "      <td>...</td>\n",
       "      <td>168</td>\n",
       "      <td>1</td>\n",
       "      <td>0</td>\n",
       "      <td>0</td>\n",
       "      <td>118</td>\n",
       "      <td>217</td>\n",
       "      <td>226</td>\n",
       "      <td>159</td>\n",
       "      <td>0</td>\n",
       "      <td>3</td>\n",
       "    </tr>\n",
       "    <tr>\n",
       "      <th>4</th>\n",
       "      <td>0</td>\n",
       "      <td>6</td>\n",
       "      <td>0</td>\n",
       "      <td>34</td>\n",
       "      <td>160</td>\n",
       "      <td>7</td>\n",
       "      <td>7</td>\n",
       "      <td>0</td>\n",
       "      <td>5</td>\n",
       "      <td>0</td>\n",
       "      <td>...</td>\n",
       "      <td>7</td>\n",
       "      <td>0</td>\n",
       "      <td>0</td>\n",
       "      <td>0</td>\n",
       "      <td>2</td>\n",
       "      <td>42</td>\n",
       "      <td>250</td>\n",
       "      <td>51</td>\n",
       "      <td>0</td>\n",
       "      <td>4</td>\n",
       "    </tr>\n",
       "  </tbody>\n",
       "</table>\n",
       "<p>5 rows × 64 columns</p>\n",
       "</div>"
      ],
      "text/plain": [
       "   0  1    2    3    4    5   6  7   8    9 ...   54  55  56  57   58   59  \\\n",
       "0  0  2   88  217  158   21   0  0  16    0 ...    4   0   4   3   87  228   \n",
       "1  0  0   11  187  210   78   5  0  13    5 ...    0   0   0   0    0  172   \n",
       "2  0  0    5   59  240  199   2  0   5    0 ...   92   0   0  11    0   54   \n",
       "3  6  0  108  255  213   13  10  0   2  131 ...  168   1   0   0  118  217   \n",
       "4  0  6    0   34  160    7   7  0   5    0 ...    7   0   0   0    2   42   \n",
       "\n",
       "    60   61   62  63  \n",
       "0  182    0    9   2  \n",
       "1  251  157    0  12  \n",
       "2  173  255  138   0  \n",
       "3  226  159    0   3  \n",
       "4  250   51    0   4  \n",
       "\n",
       "[5 rows x 64 columns]"
      ]
     },
     "execution_count": 25,
     "metadata": {},
     "output_type": "execute_result"
    }
   ],
   "source": [
    "X = df_digits[feature_cols]\n",
    "X.head()"
   ]
  },
  {
   "cell_type": "code",
   "execution_count": 27,
   "metadata": {},
   "outputs": [
    {
     "data": {
      "text/plain": [
       "0    0\n",
       "1    1\n",
       "2    2\n",
       "3    3\n",
       "4    4\n",
       "Name: 64, dtype: int64"
      ]
     },
     "execution_count": 27,
     "metadata": {},
     "output_type": "execute_result"
    }
   ],
   "source": [
    "y = df_digits['64']\n",
    "y.head()"
   ]
  },
  {
   "cell_type": "markdown",
   "metadata": {},
   "source": [
    "# c)"
   ]
  },
  {
   "cell_type": "code",
   "execution_count": 28,
   "metadata": {
    "collapsed": true
   },
   "outputs": [],
   "source": [
    "X_train, X_test, y_train, y_test = train_test_split(X, y, test_size=0.1, random_state=2)\n",
    "\n"
   ]
  },
  {
   "cell_type": "markdown",
   "metadata": {},
   "source": [
    "# d)"
   ]
  },
  {
   "cell_type": "code",
   "execution_count": 30,
   "metadata": {},
   "outputs": [
    {
     "data": {
      "text/plain": [
       "MLPClassifier(activation='logistic', alpha=1e-05, batch_size='auto',\n",
       "       beta_1=0.9, beta_2=0.999, early_stopping=False, epsilon=1e-08,\n",
       "       hidden_layer_sizes=(80,), learning_rate='constant',\n",
       "       learning_rate_init=0.002, max_iter=200, momentum=0.9,\n",
       "       nesterovs_momentum=True, power_t=0.5, random_state=1, shuffle=True,\n",
       "       solver='adam', tol=0.0001, validation_fraction=0.1, verbose=False,\n",
       "       warm_start=False)"
      ]
     },
     "execution_count": 30,
     "metadata": {},
     "output_type": "execute_result"
    }
   ],
   "source": [
    "my_ANN = MLPClassifier(hidden_layer_sizes=(80,), activation= 'logistic', \n",
    "                       solver='adam', alpha=1e-5, random_state=1, \n",
    "                       learning_rate_init = 0.002)\n",
    "my_ANN.fit(X_train, y_train)"
   ]
  },
  {
   "cell_type": "code",
   "execution_count": 31,
   "metadata": {},
   "outputs": [
    {
     "name": "stdout",
     "output_type": "stream",
     "text": [
      "[array([[-0.03108507,  0.05535598, -0.10344313, ...,  0.02784709,\n",
      "         0.0825046 ,  0.09423843],\n",
      "       [ 0.0698235 , -0.03680347,  0.02531218, ..., -0.08548486,\n",
      "         0.13431358, -0.00890143],\n",
      "       [-0.08512366,  0.00701341,  0.0517199 , ..., -0.03931432,\n",
      "         0.0084345 , -0.00750768],\n",
      "       ..., \n",
      "       [-0.11242577,  0.05533088, -0.14202023, ...,  0.16407871,\n",
      "         0.11457407,  0.0420623 ],\n",
      "       [-0.07166422, -0.03265562, -0.13267241, ...,  0.0691162 ,\n",
      "         0.04956646,  0.01864882],\n",
      "       [-0.07492904,  0.06047465, -0.09970874, ...,  0.16873773,\n",
      "         0.07970479,  0.18755002]]), array([[ 0.06890649, -0.0193346 , -0.04462959,  0.01592586, -0.04940631,\n",
      "        -0.11814053, -0.07778388, -0.06851535,  0.12406917,  0.05942455],\n",
      "       [ 0.05478182,  0.21129084, -0.09314276,  0.06211205, -0.48712177,\n",
      "         0.06060247,  0.16494833, -0.44675292,  0.15779203,  0.19072966],\n",
      "       [-0.2870331 ,  0.16205047, -0.24328915, -0.2827384 ,  0.33378543,\n",
      "         0.28350061, -0.36706964,  0.36139124, -0.26127077, -0.31344629],\n",
      "       [ 0.10975589,  0.21662057, -0.12358392, -0.06312723, -0.00765796,\n",
      "         0.02389818,  0.0394275 ,  0.07475234,  0.10941538, -0.09805811],\n",
      "       [ 0.39709178, -0.25156453, -0.29425441, -0.3426656 ,  0.09443611,\n",
      "        -0.24820306,  0.40206119,  0.41862309, -0.36380115, -0.42962946],\n",
      "       [ 0.14944556, -0.06873175,  0.22958939, -0.27283804,  0.23388836,\n",
      "        -0.20863606, -0.04357991,  0.14354522,  0.23826422, -0.28504918],\n",
      "       [ 0.09485934,  0.11421178,  0.03642457, -0.04386686, -0.01444912,\n",
      "        -0.09435566,  0.10497146, -0.06625361, -0.12856922, -0.01389934],\n",
      "       [-0.16041227, -0.20783282,  0.32475364,  0.38851863, -0.16311602,\n",
      "        -0.33064884, -0.2882933 , -0.33443859, -0.32904991, -0.34722566],\n",
      "       [-0.00078548, -0.40976511, -0.30266377,  0.24272991, -0.26695637,\n",
      "         0.2974466 , -0.23103172,  0.28929454,  0.24183257,  0.05339499],\n",
      "       [-0.29149003, -0.58051629,  0.40143785,  0.41762017, -0.22565955,\n",
      "         0.15786485, -0.25251668,  0.35635878, -0.6607284 , -0.06064681],\n",
      "       [-0.32772798,  0.41322343, -0.23277827, -0.55403663,  0.22010738,\n",
      "        -0.35590405, -0.29519497,  0.17110481, -0.3794419 ,  0.47510509],\n",
      "       [-0.02044683, -0.02264195, -0.12757253, -0.07151049,  0.12138879,\n",
      "        -0.11190456,  0.00883295, -0.10088308, -0.01999246, -0.12292944],\n",
      "       [-0.35812815,  0.10300066,  0.23672345,  0.16141644, -0.28914406,\n",
      "         0.28590266,  0.31859768, -0.49972309, -0.11739185,  0.29062638],\n",
      "       [ 0.34635153, -0.28692945, -0.32665188,  0.02180968,  0.38568542,\n",
      "         0.39446709,  0.36384506, -0.35250122, -0.41669535, -0.58238491],\n",
      "       [-0.25319477, -0.33736367,  0.29986167,  0.4069385 , -0.29828537,\n",
      "         0.3771803 , -0.31997305,  0.20297913, -0.27018632, -0.26571233],\n",
      "       [ 0.15263937, -0.23464926,  0.39193283,  0.33101145, -0.38267818,\n",
      "        -0.35471896, -0.16892842,  0.44789694, -0.50066983,  0.23759553],\n",
      "       [ 0.34586513, -0.2154117 ,  0.27364712, -0.45357953,  0.27833035,\n",
      "         0.00377304, -0.35045845, -0.02268   , -0.28381554, -0.43929359],\n",
      "       [ 0.28974512, -0.56535949,  0.23369736,  0.05118009, -0.50150403,\n",
      "        -0.42452265,  0.09419158,  0.23357752,  0.32472597, -0.01880363],\n",
      "       [ 0.29330706, -0.10859907, -0.03038911, -0.21250484,  0.0373594 ,\n",
      "        -0.30563836,  0.30258224,  0.15833076,  0.27460278, -0.47438795],\n",
      "       [-0.0450588 ,  0.09340409,  0.08883587,  0.08174127,  0.17756958,\n",
      "        -0.42964485, -0.22847794,  0.14055427,  0.04837408,  0.13623765],\n",
      "       [ 0.15775424,  0.27187341,  0.00629893, -0.09252698,  0.14317654,\n",
      "        -0.28202197,  0.06681418, -0.34691005, -0.02407529,  0.04558129],\n",
      "       [-0.36562403,  0.23987616,  0.05106563,  0.01366478,  0.09654888,\n",
      "         0.12932383,  0.264573  , -0.41867831,  0.20755289,  0.24158519],\n",
      "       [ 0.18738581, -0.41711439, -0.28513589,  0.36130014, -0.48917958,\n",
      "         0.25556039, -0.23871805, -0.34352449,  0.02383715,  0.32248535],\n",
      "       [ 0.13896946, -0.18226602, -0.44762664, -0.441733  ,  0.13851131,\n",
      "         0.13130308,  0.0526505 , -0.14220607, -0.00500521,  0.29645706],\n",
      "       [-0.5038696 ,  0.48571053, -0.46438346, -0.17093779,  0.23521848,\n",
      "         0.15819856, -0.31518777,  0.27413202, -0.62966037, -0.2669633 ],\n",
      "       [-0.40190686,  0.37894578,  0.15887422,  0.13926821, -0.4224053 ,\n",
      "        -0.31124007, -0.48058371,  0.23222882,  0.28791751,  0.38070501],\n",
      "       [-0.34659819,  0.09140319,  0.22986115, -0.23089931,  0.16786266,\n",
      "         0.14687547,  0.27293554,  0.14925146,  0.30184632, -0.15968614],\n",
      "       [-0.18585015, -0.06333629, -0.36203819,  0.35065319,  0.04421762,\n",
      "         0.2132226 , -0.37596095, -0.60533907,  0.30123368,  0.32881991],\n",
      "       [ 0.2949474 , -0.34249559,  0.5766899 , -0.04165779, -0.25224153,\n",
      "        -0.18968381, -0.30734005, -0.25938169, -0.42079205,  0.06412813],\n",
      "       [ 0.265788  ,  0.1985478 ,  0.2855821 ,  0.291996  , -0.00390737,\n",
      "         0.03035767, -0.21684608, -0.25038774, -0.58069553, -0.42738477],\n",
      "       [-0.28552689, -0.33444091,  0.47867049, -0.30726917,  0.31607718,\n",
      "        -0.27387064,  0.32158173,  0.11859563, -0.12265591, -0.26572045],\n",
      "       [-0.26222607, -0.33104836,  0.33293908, -0.10463299, -0.39660271,\n",
      "        -0.09678258, -0.08454299,  0.48554717, -0.24579663, -0.33388445],\n",
      "       [-0.06177294,  0.21378866, -0.11665413,  0.03848368,  0.12941713,\n",
      "         0.04000939,  0.00647536,  0.11444396,  0.14243055,  0.06943584],\n",
      "       [-0.15442748,  0.25659851,  0.15627599, -0.04247848,  0.32601287,\n",
      "        -0.32951385, -0.3461774 , -0.10923558, -0.21884892,  0.29852674],\n",
      "       [ 0.1090493 ,  0.19204921, -0.07804682, -0.00788019,  0.07735257,\n",
      "        -0.06969627,  0.1455339 ,  0.05807259, -0.04790486,  0.08533262],\n",
      "       [ 0.11734438, -0.23448149, -0.11237145, -0.33533423,  0.00845492,\n",
      "        -0.04768699,  0.15525392, -0.19488989,  0.15502755, -0.24901687],\n",
      "       [ 0.19845084,  0.09645251,  0.21413761, -0.34222306, -0.47364935,\n",
      "         0.45389156,  0.24586599, -0.53601803, -0.08871637, -0.43992768],\n",
      "       [-0.28189322, -0.09504376, -0.37537472,  0.32134198,  0.31786629,\n",
      "        -0.42172841, -0.10070097,  0.26854881,  0.15047067,  0.06678489],\n",
      "       [ 0.05038275,  0.17669521,  0.01142501,  0.01977929,  0.02583529,\n",
      "         0.03114332, -0.05440675, -0.08600221,  0.09545495,  0.09642846],\n",
      "       [ 0.06942016,  0.22537923,  0.13527668, -0.08006122, -0.34312957,\n",
      "         0.02080046, -0.4608382 ,  0.09582103,  0.22586249,  0.11190185],\n",
      "       [-0.01594655,  0.07432788,  0.05861765, -0.10138329, -0.04559468,\n",
      "         0.02689561,  0.02380383, -0.12108826,  0.08176511, -0.08948349],\n",
      "       [-0.29937045,  0.20352393, -0.45549307,  0.1966164 , -0.27352985,\n",
      "         0.14467387,  0.39410296, -0.426542  ,  0.00975585, -0.0077737 ],\n",
      "       [-0.23850012, -0.05599767,  0.29380847, -0.40328484, -0.04462631,\n",
      "         0.30166889, -0.18569618, -0.32507248,  0.2860443 , -0.1560791 ],\n",
      "       [-0.19390997,  0.22595056,  0.29707498, -0.27763915,  0.1603943 ,\n",
      "        -0.01812768, -0.39843957,  0.09217093,  0.21330753,  0.17123673],\n",
      "       [-0.23959442,  0.04581522, -0.02019564,  0.05150387, -0.12320787,\n",
      "         0.22629652, -0.02672408,  0.0667468 ,  0.12048073, -0.16651296],\n",
      "       [-0.1975709 ,  0.06829832, -0.05861452,  0.20054658,  0.14857266,\n",
      "        -0.31925371,  0.13864807,  0.14855388,  0.32072332, -0.22720301],\n",
      "       [ 0.05035164,  0.03285792, -0.06383365,  0.1024133 ,  0.13859933,\n",
      "        -0.04582424,  0.10320343,  0.14438696, -0.00246107, -0.0929726 ],\n",
      "       [ 0.2961753 , -0.22227962,  0.43892728, -0.17138977, -0.34201772,\n",
      "         0.05635207,  0.14732701, -0.34459472, -0.45038471,  0.25707726],\n",
      "       [ 0.30957581, -0.08849084, -0.39371465,  0.27086415,  0.18394036,\n",
      "        -0.20915311, -0.14754551, -0.13062527, -0.19676946,  0.3301978 ],\n",
      "       [-0.24635693, -0.16472121,  0.13393394,  0.2148617 , -0.30494365,\n",
      "         0.1488677 ,  0.36900146, -0.26932379, -0.23477925,  0.0044846 ],\n",
      "       [-0.39259207, -0.05722467, -0.32843271, -0.03206604,  0.3853737 ,\n",
      "        -0.17261539,  0.38867999, -0.24783103, -0.44957103, -0.26935549],\n",
      "       [-0.2647964 , -0.51040176, -0.40001598,  0.20246953, -0.24627149,\n",
      "         0.29981408, -0.20583242,  0.2472723 ,  0.2051333 ,  0.11782204],\n",
      "       [-0.06840086, -0.34269619, -0.32970852,  0.45517833, -0.17806663,\n",
      "        -0.04034602, -0.25713175, -0.04467273,  0.04278757, -0.11245536],\n",
      "       [-0.031632  ,  0.1040174 ,  0.03428762, -0.03386321, -0.08036346,\n",
      "        -0.00854788,  0.12170448,  0.06715623, -0.15504221,  0.03875179],\n",
      "       [ 0.30439157, -0.13470098, -0.06515613, -0.42480533,  0.26878397,\n",
      "        -0.35988021,  0.07493154, -0.39575159,  0.39900968,  0.07114296],\n",
      "       [ 0.19089291, -0.44906738, -0.32174497, -0.13714893,  0.2175189 ,\n",
      "         0.32413643,  0.08544321,  0.03713773, -0.06936493,  0.06675033],\n",
      "       [-0.05141857, -0.58138408,  0.2578005 ,  0.19225805, -0.36570441,\n",
      "         0.30983911, -0.30752093,  0.28143298,  0.30549973,  0.20526944],\n",
      "       [-0.13994381,  0.2021013 ,  0.18619971,  0.10079014,  0.18703739,\n",
      "        -0.08952103, -0.45022185,  0.03506145, -0.10440972, -0.05213435],\n",
      "       [-0.43687554,  0.04766232,  0.11576248,  0.35017775, -0.44612073,\n",
      "        -0.43376421,  0.3273437 ,  0.13913856,  0.36633962, -0.46748414],\n",
      "       [ 0.20351494, -0.42925122, -0.33921502, -0.14747668,  0.41859925,\n",
      "        -0.46939695,  0.3771821 , -0.1962774 , -0.31138525, -0.20080061],\n",
      "       [-0.32232533,  0.34716452, -0.02211637,  0.31408288,  0.06020512,\n",
      "        -0.36154044, -0.27386435, -0.37175571,  0.06645536,  0.14730096],\n",
      "       [ 0.27671559,  0.05893866, -0.41425855, -0.47250662,  0.28346713,\n",
      "        -0.13985864, -0.18810961,  0.0739115 ,  0.15366269,  0.23539603],\n",
      "       [-0.30444877, -0.34362717, -0.4670831 ,  0.22314767, -0.17303822,\n",
      "         0.18540063, -0.40092991,  0.34497548,  0.07387223,  0.24438401],\n",
      "       [ 0.15777745, -0.36477301,  0.10721227,  0.12910433, -0.29571536,\n",
      "         0.21385011,  0.23183626, -0.31095682,  0.18353491,  0.15717927],\n",
      "       [ 0.02822515,  0.07800356,  0.00265644,  0.04393301,  0.1022795 ,\n",
      "         0.1800833 , -0.41112985,  0.00516242, -0.08164844,  0.13066228],\n",
      "       [ 0.20803439, -0.41975365,  0.18387824,  0.20726621,  0.14097745,\n",
      "        -0.1139415 ,  0.07612435,  0.19108023,  0.32517678, -0.26219943],\n",
      "       [ 0.08510981, -0.00922288,  0.09618295, -0.06022187,  0.04008554,\n",
      "         0.12415869,  0.05734613,  0.04194825, -0.04715866, -0.01565063],\n",
      "       [ 0.09798945,  0.18671939, -0.122913  ,  0.18148172, -0.11112137,\n",
      "        -0.30123243,  0.08320101,  0.18580738, -0.05530893,  0.17615808],\n",
      "       [-0.31369469,  0.34663727,  0.19937887,  0.35594578, -0.42871187,\n",
      "        -0.29667131, -0.25877488, -0.18670106, -0.10130431, -0.20578711],\n",
      "       [ 0.08687058,  0.16412644, -0.07208555,  0.05654447, -0.13055577,\n",
      "         0.09973783,  0.14043516, -0.11857131,  0.00713098, -0.19722807],\n",
      "       [-0.29896612, -0.57435565, -0.50668399, -0.44016151,  0.39037853,\n",
      "         0.1394686 , -0.15250141,  0.42937878, -0.5652226 ,  0.45801487],\n",
      "       [ 0.20828313, -0.24333143, -0.24673979, -0.18315968,  0.19405819,\n",
      "         0.21224701,  0.25820811,  0.24874935, -0.3223519 ,  0.4171681 ],\n",
      "       [ 0.12949053, -0.52952211, -0.37274559, -0.7016385 ,  0.19319273,\n",
      "         0.26888058, -0.41186374,  0.17170046, -0.25117722,  0.2001425 ],\n",
      "       [ 0.35031115,  0.23424372, -0.32950634, -0.12635021, -0.23871453,\n",
      "        -0.04392345, -0.13408057, -0.37848672, -0.58010565,  0.40661999],\n",
      "       [ 0.21854562, -0.25772954, -0.14801152,  0.36621616, -0.35039962,\n",
      "         0.30807135,  0.0733981 , -0.09298344, -0.3006706 , -0.26608525],\n",
      "       [-0.50941773,  0.16109835, -0.56654046,  0.05176415,  0.28874879,\n",
      "        -0.51340358,  0.02882812,  0.2605107 ,  0.25475828, -0.21038396],\n",
      "       [-0.32500545,  0.34055471,  0.25964236, -0.10966423,  0.16640265,\n",
      "         0.29436582,  0.32759261, -0.33361513, -0.09142886, -0.38537494],\n",
      "       [-0.31670991,  0.50938753,  0.34184583, -0.52723173, -0.40557928,\n",
      "        -0.23053425,  0.31682242, -0.41039276, -0.32879914, -0.22492101],\n",
      "       [ 0.046245  ,  0.18916312, -0.06681036,  0.12583963, -0.13870162,\n",
      "         0.18332287, -0.03627108,  0.0826169 ,  0.14858558,  0.06601025],\n",
      "       [ 0.15108905,  0.13545356,  0.3101871 , -0.26079132, -0.33681135,\n",
      "        -0.18905736,  0.33274668, -0.29886299,  0.35964445, -0.14050349]])]\n"
     ]
    }
   ],
   "source": [
    "# Weights:\n",
    "print(my_ANN.coefs_)"
   ]
  },
  {
   "cell_type": "code",
   "execution_count": 32,
   "metadata": {},
   "outputs": [
    {
     "name": "stdout",
     "output_type": "stream",
     "text": [
      "[array([-0.00970753, -0.03952583,  0.07558775,  0.08216994,  0.07410616,\n",
      "        0.09853268,  0.04689489,  0.1041507 ,  0.01369264,  0.06319414,\n",
      "        0.05690763, -0.02403036, -0.09624671,  0.07333257,  0.02544948,\n",
      "       -0.07536803, -0.08289986,  0.02385729, -0.01307052, -0.06166755,\n",
      "       -0.09891415,  0.01753198, -0.09785181, -0.07406244,  0.00837546,\n",
      "       -0.1117778 , -0.03984501, -0.12647598, -0.09588616,  0.10028841,\n",
      "       -0.00476433,  0.05005737, -0.000579  ,  0.06033293,  0.10756767,\n",
      "        0.0755009 ,  0.00380724,  0.06733592,  0.06910556,  0.09137126,\n",
      "       -0.09387073,  0.00387515, -0.13549959,  0.08124893,  0.08919189,\n",
      "       -0.00292473,  0.03739603,  0.05447738, -0.06707481, -0.02418146,\n",
      "       -0.04992246,  0.02764805,  0.09500913, -0.03796712, -0.09466169,\n",
      "        0.04924251,  0.02722293, -0.05098715, -0.03556285,  0.11917111,\n",
      "        0.07594908, -0.0907419 ,  0.05237582,  0.11847523,  0.08633205,\n",
      "        0.07349713, -0.01048847, -0.06836862,  0.06945217,  0.02619275,\n",
      "       -0.01123651,  0.07089185,  0.07436148,  0.0649995 , -0.04981   ,\n",
      "        0.10204412,  0.0584213 , -0.06661949, -0.07843156,  0.05032219]), array([ 0.00974962,  0.20519556,  0.05282412, -0.03037524,  0.03190839,\n",
      "        0.05657054,  0.09229559, -0.13164406,  0.04964281, -0.05705888])]\n"
     ]
    }
   ],
   "source": [
    "# Bias weights:\n",
    "print(my_ANN.intercepts_)"
   ]
  },
  {
   "cell_type": "code",
   "execution_count": 33,
   "metadata": {},
   "outputs": [
    {
     "name": "stdout",
     "output_type": "stream",
     "text": [
      "[4 0 8 6 5 1 0 4 5 6 5 7 6 1 4 5 6 7 2 7 5 6 5 1 5 2 9 5 5 4 5 6 4 4 0 9 9\n",
      " 8 4 6 8 2 5 7 4 6 9 5 1 0 0 1 9 7 3 3 3 1 8 8 8 7 5 2 7 1 7 5 3 4 3 0 3 2\n",
      " 9 3 3 9 8 7 2 8 5 3 8 7 6 4 6 2 8 4 0 1 5 3 5 7 5 8 2 2 6 4 3 4 3 7 3 9 4\n",
      " 7 0 3 5 1 5 5 3 9 2 7 3 2 0 8 1 7 2 1 5 3 5 3 3 7 9 8 3 2 2 7 3 1 6 7 2 2\n",
      " 3 4 3 6 4 8 2 1 8 8 8 3 5 3 9 5 5 7 7 4 8 9 3 7 6 9 7 0 4 0 0 9]\n"
     ]
    }
   ],
   "source": [
    "# Testing on the testing set:\n",
    "y_predict_ann = my_ANN.predict(X_test)\n",
    "print(y_predict_ann)"
   ]
  },
  {
   "cell_type": "code",
   "execution_count": 34,
   "metadata": {},
   "outputs": [
    {
     "name": "stdout",
     "output_type": "stream",
     "text": [
      "0.944444444444\n"
     ]
    }
   ],
   "source": [
    "score_ann = accuracy_score(y_test, y_predict_ann)\n",
    "print(score_ann)"
   ]
  },
  {
   "cell_type": "markdown",
   "metadata": {},
   "source": [
    "### Confussion Matrix "
   ]
  },
  {
   "cell_type": "code",
   "execution_count": 35,
   "metadata": {},
   "outputs": [
    {
     "name": "stdout",
     "output_type": "stream",
     "text": [
      "Confusion matrix:\n",
      "[[12  0  0  0  0  0  0  0  0  0]\n",
      " [ 0 11  0  0  0  0  0  0  1  0]\n",
      " [ 0  0 16  0  0  0  0  0  0  0]\n",
      " [ 0  0  0 26  0  0  0  0  0  0]\n",
      " [ 0  0  0  0 17  0  0  1  0  1]\n",
      " [ 0  0  0  0  0 25  0  0  0  0]\n",
      " [ 0  1  0  0  0  0 14  0  0  0]\n",
      " [ 0  0  0  0  0  0  0 20  0  0]\n",
      " [ 0  1  1  0  1  0  0  0 16  0]\n",
      " [ 0  0  0  0  0  1  0  1  1 13]]\n"
     ]
    }
   ],
   "source": [
    "from sklearn import metrics\n",
    "\n",
    "cm_ANN = metrics.confusion_matrix(y_test, y_predict_ann)\n",
    "\n",
    "print(\"Confusion matrix:\")\n",
    "print(cm_ANN)\n",
    "\n"
   ]
  },
  {
   "cell_type": "code",
   "execution_count": 36,
   "metadata": {},
   "outputs": [
    {
     "name": "stdout",
     "output_type": "stream",
     "text": [
      "{'hidden_layer_sizes': [(50,), (51,), (52,), (53,), (54,), (55,), (56,), (57,), (58,), (59,), (60,), (61,), (62,), (63,), (64,), (65,), (66,), (67,), (68,), (69,), (70,), (71,), (72,), (73,), (74,), (75,), (76,), (77,), (78,), (79,), (80,), (81,), (82,), (83,), (84,), (85,), (86,), (87,), (88,), (89,), (90,), (91,), (92,), (93,), (94,), (95,), (96,), (97,), (98,), (99,), (100,), (101,), (102,), (103,), (104,), (105,), (106,), (107,), (108,), (109,), (110,), (111,), (112,), (113,), (114,), (115,), (116,), (117,), (118,), (119,), (120,), (121,), (122,), (123,), (124,), (125,), (126,), (127,), (128,), (129,), (130,), (131,), (132,), (133,), (134,), (135,), (136,), (137,), (138,), (139,), (140,), (141,), (142,), (143,), (144,), (145,), (146,), (147,), (148,), (149,), (150,), (151,), (152,), (153,), (154,), (155,), (156,), (157,), (158,), (159,), (160,), (161,), (162,), (163,), (164,), (165,), (166,), (167,), (168,), (169,), (170,), (171,), (172,), (173,), (174,), (175,), (176,), (177,), (178,), (179,), (180,), (181,), (182,), (183,), (184,), (185,), (186,), (187,), (188,), (189,), (190,), (191,), (192,), (193,), (194,), (195,), (196,), (197,), (198,), (199,)]} \n",
      "\n",
      "0.958240534521\n",
      "{'hidden_layer_sizes': (146,)}\n"
     ]
    }
   ],
   "source": [
    "from sklearn.model_selection import GridSearchCV\n",
    "\n",
    "# define a range for the \"number of neurons\" in the hidden layer for a network with 1 hidden layer:\n",
    "neuron_number = [(i,) for i in range(50,200)]\n",
    "\n",
    "# create a dictionary for grid parameter:\n",
    "param_grid = dict(hidden_layer_sizes = neuron_number)\n",
    "print(param_grid,'\\n')\n",
    "\n",
    "# instantiate the model:\n",
    "my_ANN = MLPClassifier(activation='logistic', solver='adam', \n",
    "                                         alpha=1e-5, random_state=1, \n",
    "                                           learning_rate_init = 0.002)\n",
    "\n",
    "# creat the grid, and define the metric for evaluating the model: \n",
    "grid = GridSearchCV(my_ANN, param_grid, cv=10, scoring='accuracy')\n",
    "\n",
    "# fit the grid (start the grid search):\n",
    "grid.fit(X, y)\n",
    "\n",
    "# view the results:\n",
    "#print(grid.cv_results_)\n",
    "\n",
    "# view the best results corresponding to the best structure of ANN:\n",
    "print(grid.best_score_)\n",
    "print(grid.best_params_)"
   ]
  },
  {
   "cell_type": "code",
   "execution_count": null,
   "metadata": {
    "collapsed": true
   },
   "outputs": [],
   "source": []
  }
 ],
 "metadata": {
  "kernelspec": {
   "display_name": "Python 3",
   "language": "python",
   "name": "python3"
  },
  "language_info": {
   "codemirror_mode": {
    "name": "ipython",
    "version": 3
   },
   "file_extension": ".py",
   "mimetype": "text/x-python",
   "name": "python",
   "nbconvert_exporter": "python",
   "pygments_lexer": "ipython3",
   "version": "3.6.1"
  }
 },
 "nbformat": 4,
 "nbformat_minor": 2
}
